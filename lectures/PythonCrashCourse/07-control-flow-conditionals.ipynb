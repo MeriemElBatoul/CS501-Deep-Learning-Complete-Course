{
 "cells": [
  {
   "cell_type": "code",
   "execution_count": 1,
   "id": "5f216706-133a-448f-9a5b-cc2df05a8ca6",
   "metadata": {},
   "outputs": [],
   "source": [
    "# =======================================================================\n",
    "# Course: Deep Learning Complete Course (CS-501)\n",
    "# Author: Dr. Saad Laouadi\n",
    "# Lesson: Control Flow in Python\n",
    "#\n",
    "# Description: This program covers the basics of control flow in Python,\n",
    "#              including conditional statements such as `if`, `if-else`,\n",
    "#              and `if-elif-else`. It demonstrates how to use these \n",
    "#              statements to make decisions in code.\n",
    "#\n",
    "# ======================================================================="
   ]
  },
  {
   "cell_type": "code",
   "execution_count": 2,
   "id": "b0d45cb2-a4ca-4ebc-a569-29ba089f345e",
   "metadata": {},
   "outputs": [
    {
     "name": "stdout",
     "output_type": "stream",
     "text": [
      "You are eligible to vote.\n",
      "\n"
     ]
    }
   ],
   "source": [
    "# Control Flow in Python\n",
    "# ----------------------\n",
    "\n",
    "# 1. `if` Statement\n",
    "# -----------------\n",
    "# The `if` statement is used to execute a block of code if a specified condition is `True`.\n",
    "age = 18\n",
    "if age >= 18:\n",
    "    print(\"You are eligible to vote.\")  # Output: You are eligible to vote.\n",
    "\n",
    "# Explanation:\n",
    "# - The code block inside the `if` statement is executed because the condition `age >= 18` is `True`.\n",
    "\n",
    "print() "
   ]
  },
  {
   "cell_type": "code",
   "execution_count": 3,
   "id": "12457237-9022-4c1d-89a0-f21c8d067296",
   "metadata": {},
   "outputs": [
    {
     "name": "stdout",
     "output_type": "stream",
     "text": [
      "The number is odd.\n",
      "\n"
     ]
    }
   ],
   "source": [
    "# 2. `if-else` Statement\n",
    "# ----------------------\n",
    "# The `if-else` statement executes one block of code if the condition is `True`,\n",
    "# and another block of code if the condition is `False`.\n",
    "number = 5\n",
    "if number % 2 == 0:\n",
    "    print(\"The number is even.\")\n",
    "else:\n",
    "    print(\"The number is odd.\")  \n",
    "\n",
    "# Explanation:\n",
    "# - Since `number % 2 == 0` is `False`, the `else` block is executed.\n",
    "\n",
    "print()  "
   ]
  },
  {
   "cell_type": "code",
   "execution_count": 4,
   "id": "cb50d79f-a948-4c10-99ad-4404b07bfbe4",
   "metadata": {},
   "outputs": [
    {
     "name": "stdout",
     "output_type": "stream",
     "text": [
      "Grade: B\n",
      "\n"
     ]
    }
   ],
   "source": [
    "# 3. `if-elif-else` Statement\n",
    "# ---------------------------\n",
    "# The `if-elif-else` statement allows for multiple conditions to be checked sequentially.\n",
    "score = 85\n",
    "if score >= 90:\n",
    "    print(\"Grade: A\")\n",
    "elif score >= 80:\n",
    "    print(\"Grade: B\")  # Output: Grade: B\n",
    "elif score >= 70:\n",
    "    print(\"Grade: C\")\n",
    "else:\n",
    "    print(\"Grade: D or below\")\n",
    "\n",
    "# Explanation:\n",
    "# - The first condition `score >= 90` is `False`.\n",
    "# - The second condition `score >= 80` is `True`, so the `elif` block is executed.\n",
    "\n",
    "print() "
   ]
  },
  {
   "cell_type": "code",
   "execution_count": 5,
   "id": "f15ce911-1472-4323-b0ac-ee7a79a1bfa6",
   "metadata": {},
   "outputs": [
    {
     "name": "stdout",
     "output_type": "stream",
     "text": [
      "\n",
      "# Notes:\n",
      "# ------\n",
      "# - **if**: Used to check a condition and execute the block of code if the condition is `True`.\n",
      "# - **if-else**: Provides an alternative block of code to execute if the condition is `False`.\n",
      "# - **if-elif-else**: Useful for handling multiple conditions in a sequential manner.\n",
      "# - Python uses indentation to define the scope of conditional blocks.\n",
      "\n",
      "# Practice:\n",
      "# ---------\n",
      "# Experiment with changing the values of `age`, `number`, and `score` to see how the output changes.\n",
      "\n"
     ]
    }
   ],
   "source": [
    "print(\"\"\"\n",
    "# Notes:\n",
    "# ------\n",
    "# - **if**: Used to check a condition and execute the block of code if the condition is `True`.\n",
    "# - **if-else**: Provides an alternative block of code to execute if the condition is `False`.\n",
    "# - **if-elif-else**: Useful for handling multiple conditions in a sequential manner.\n",
    "# - Python uses indentation to define the scope of conditional blocks.\n",
    "\n",
    "# Practice:\n",
    "# ---------\n",
    "# Experiment with changing the values of `age`, `number`, and `score` to see how the output changes.\n",
    "\"\"\")"
   ]
  },
  {
   "cell_type": "code",
   "execution_count": null,
   "id": "48f47e58-488d-4524-a9ae-b741520252b3",
   "metadata": {},
   "outputs": [],
   "source": []
  }
 ],
 "metadata": {
  "kernelspec": {
   "display_name": "Python3.12",
   "language": "python",
   "name": "python3"
  },
  "language_info": {
   "codemirror_mode": {
    "name": "ipython",
    "version": 3
   },
   "file_extension": ".py",
   "mimetype": "text/x-python",
   "name": "python",
   "nbconvert_exporter": "python",
   "pygments_lexer": "ipython3",
   "version": "3.12.3"
  }
 },
 "nbformat": 4,
 "nbformat_minor": 5
}
